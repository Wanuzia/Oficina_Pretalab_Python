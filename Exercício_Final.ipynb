{
  "nbformat": 4,
  "nbformat_minor": 0,
  "metadata": {
    "colab": {
      "provenance": [],
      "include_colab_link": true
    },
    "kernelspec": {
      "name": "python3",
      "display_name": "Python 3"
    },
    "language_info": {
      "name": "python"
    }
  },
  "cells": [
    {
      "cell_type": "markdown",
      "metadata": {
        "id": "view-in-github",
        "colab_type": "text"
      },
      "source": [
        "<a href=\"https://colab.research.google.com/github/Wanuzia/Oficina_Pretalab_Python/blob/main/Exerc%C3%ADcio_Final.ipynb\" target=\"_parent\"><img src=\"https://colab.research.google.com/assets/colab-badge.svg\" alt=\"Open In Colab\"/></a>"
      ]
    },
    {
      "cell_type": "markdown",
      "source": [
        "# Contagem de Medalhas\n",
        "\n",
        "Crie um programa que receba o número de medalhas de ouro, prata e bronze de um país nas Olimpíadas e calcule o total de medalhas.\n",
        "Quando escrever 'sair', o programa deverá encerrar e mostrar na tela o ranking de medalhas no formato:"
      ],
      "metadata": {
        "id": "RQN1e5FZY6SZ"
      }
    },
    {
      "cell_type": "code",
      "source": [
        "#Ranking de medalhas:\n",
        "#Brasil: 7 medalhas\n",
        "#França: 6 medalhas\n",
        "#Argentina: 3 medalhas"
      ],
      "metadata": {
        "id": "gCq_KLHzZSzb"
      },
      "execution_count": null,
      "outputs": []
    },
    {
      "cell_type": "code",
      "execution_count": 19,
      "metadata": {
        "id": "AJJhjxiPTd5s",
        "colab": {
          "base_uri": "https://localhost:8080/"
        },
        "outputId": "93269185-9659-4506-b1d8-cc21a54993ed"
      },
      "outputs": [
        {
          "output_type": "stream",
          "name": "stdout",
          "text": [
            "Digite o nome do país (ou digite 'sair' para encerrar): França\n",
            "Digite o número de medalhas de ouro: 16\n",
            "Digite o número de medalhas de prata: 26\n",
            "Digite o número de medalhas de bronze: 22\n",
            "Digite o nome do país (ou digite 'sair' para encerrar): Brasil\n",
            "Digite o número de medalhas de ouro: 3\n",
            "Digite o número de medalhas de prata: 7\n",
            "Digite o número de medalhas de bronze: 10\n",
            "Digite o nome do país (ou digite 'sair' para encerrar): Jamaica\n",
            "Digite o número de medalhas de ouro: 1\n",
            "Digite o número de medalhas de prata: 3\n",
            "Digite o número de medalhas de bronze: 2\n",
            "Digite o nome do país (ou digite 'sair' para encerrar): sair\n",
            "\n",
            "Ranking de medalhas:\n",
            "França: 64 medalhas\n",
            "Brasil: 20 medalhas\n",
            "Jamaica: 6 medalhas\n"
          ]
        }
      ],
      "source": [
        "# Resposta aqui\n",
        "ranking = {}\n",
        "pais = input(\"Digite o nome do país (ou digite 'sair' para encerrar): \")\n",
        "while pais != \"sair\":\n",
        "  ouro = int(input(\"Digite o número de medalhas de ouro: \"))\n",
        "  prata = int(input(\"Digite o número de medalhas de prata: \"))\n",
        "  bronze = int(input(\"Digite o número de medalhas de bronze: \"))\n",
        "\n",
        "  total = ouro + prata + bronze\n",
        "  ranking[pais] = (total, ouro)\n",
        "\n",
        "  pais = input(\"Digite o nome do país (ou digite 'sair' para encerrar): \")\n",
        "\n",
        "print(\"\\nRanking de medalhas:\")\n",
        "ranking_ordenado = sorted(ranking.items(), key=lambda item: (-item[1][0], -item[1][1]))\n",
        "for pais, (total, _) in ranking_ordenado:\n",
        "  print(f\"{pais}: {total} medalhas\")"
      ]
    }
  ]
}